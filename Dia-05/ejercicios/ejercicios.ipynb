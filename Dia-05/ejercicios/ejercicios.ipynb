{
 "cells": [
  {
   "cell_type": "markdown",
   "metadata": {},
   "source": [
    "## Introducción\n",
    "\n",
    "En estos ejercicios vamos a trabajar con los datasets alojado en la ruta del curso **/Dia-05/datasets/XXVideos** representan el conjunto de estadísticas de vídeos de Youtube en los países de Canadá, USA y México.\n",
    "\n",
    "Las columnas del dataframe significan lo siguiente:\n",
    "\n",
    "1. `video_id` : Id del vídeo\n",
    "2. `trending_date` : Fecha de registro de estadísticas\n",
    "3. `title` : Título del vídeo\n",
    "4. `channel_title` : Nombre del canal de Youtube\n",
    "5. `category_id` : Id de la categoría del vídeo\n",
    "6. `publish_time` : Fecha de publicación del vídeo\n",
    "7. `tags` : Etiquetas del vídeo\n",
    "8. `views` : Vistas del vídeo en la fecha 'trending_date'\n",
    "9. `likes` : Likes del video en la fecha 'trending_date'\n",
    "10. `dislikes` : Dislikes del video en la fecha 'trending_date'\n",
    "11. `comment_count` : Número de comentarios en la fecha 'trending_date'\n",
    "12. `thumbnail_link` : Link a la miniatura del vídeo\n",
    "13. `comments_disabled` : Comentarios desactivados\n",
    "14. `ratings_disabled` : Likes/Dislikes desactivados\n",
    "15. `video_error_or_removed` : Video borrado o con error en subida\n",
    "16. `description` : Descripción del vídeo\n",
    "\n",
    "Ejecuta la siguiente celda para el dataframe con el contenido del dataset."
   ]
  },
  {
   "cell_type": "code",
   "execution_count": null,
   "metadata": {},
   "outputs": [],
   "source": []
  },
  {
   "cell_type": "markdown",
   "metadata": {},
   "source": [
    "## Ejercicio 1\n",
    "\n",
    "Imprime los tipos de datos de las columnas de los 3 dataframes. ¿Tienen los mismos tipos de datos?"
   ]
  },
  {
   "cell_type": "code",
   "execution_count": null,
   "metadata": {},
   "outputs": [],
   "source": []
  },
  {
   "cell_type": "code",
   "execution_count": null,
   "metadata": {},
   "outputs": [],
   "source": []
  },
  {
   "cell_type": "code",
   "execution_count": null,
   "metadata": {},
   "outputs": [],
   "source": []
  },
  {
   "cell_type": "markdown",
   "metadata": {},
   "source": [
    "## Ejercicio 2 \n",
    "\n",
    "Renombra las columnas `trending_date` y `publish_time` a los nombres `statistics_date` y `publish_date` respectivamente para los 3 paises."
   ]
  },
  {
   "cell_type": "code",
   "execution_count": null,
   "metadata": {},
   "outputs": [],
   "source": []
  },
  {
   "cell_type": "markdown",
   "metadata": {},
   "source": [
    "## Ejercicio 3\n",
    "\n",
    "Convierte las columnas `statistics_date` y `publish_date` de los 3 dataframe tipo de dato datetime64 con el formato **YYYY-MM-DD** para poder realizar funciones de agrupación y extracción de fechas."
   ]
  },
  {
   "cell_type": "code",
   "execution_count": null,
   "metadata": {},
   "outputs": [],
   "source": []
  },
  {
   "cell_type": "markdown",
   "metadata": {},
   "source": [
    "## Ejercicio 4\n",
    "\n",
    "¿En que año se subieron más vídeos para cada país? \n",
    "\n",
    "**Ten en cuenta que puede haber más de una fila que compartan el mismo video (`video_id`)**"
   ]
  },
  {
   "cell_type": "code",
   "execution_count": null,
   "metadata": {},
   "outputs": [],
   "source": []
  },
  {
   "cell_type": "code",
   "execution_count": null,
   "metadata": {},
   "outputs": [],
   "source": []
  },
  {
   "cell_type": "markdown",
   "metadata": {},
   "source": [
    "## Ejercicio 5 \n",
    "\n",
    "¿Qué mes del año 2017 tiene el record en visitas para el dataframe de vídeos de México?"
   ]
  },
  {
   "cell_type": "code",
   "execution_count": null,
   "metadata": {},
   "outputs": [],
   "source": []
  },
  {
   "cell_type": "code",
   "execution_count": null,
   "metadata": {},
   "outputs": [],
   "source": []
  },
  {
   "cell_type": "markdown",
   "metadata": {},
   "source": [
    "## Ejercicio 6\n",
    "\n",
    "¿Qué dataframe de los 3 tiene más valores nulos entre todas sus columnas? Calcula el porcentaje de columnas nulas de los dataframes utilizando la función `apply`"
   ]
  },
  {
   "cell_type": "code",
   "execution_count": null,
   "metadata": {},
   "outputs": [],
   "source": []
  },
  {
   "cell_type": "markdown",
   "metadata": {},
   "source": [
    "## Ejercicio 7\n",
    "\n",
    "Reemplaza los valores nulos del dataframe con más valores nulos con los siguientes criterios:\n",
    "\n",
    "- 1. Si la columna es de tipo int64 reemplaza el valor nulo por la moda de valores de esa columna. (La moda es el valor que más se repite dentro de los valores de la columna.)\n",
    "- 2. Si la columna es de tipo string rellena cada valor nulo por el valor no nulo más próximo después de ese registro. (Estrategia de relleno)"
   ]
  },
  {
   "cell_type": "code",
   "execution_count": null,
   "metadata": {},
   "outputs": [],
   "source": []
  },
  {
   "cell_type": "markdown",
   "metadata": {},
   "source": [
    "## Ejercicio 8\n",
    "\n",
    "¿Cuántos vídeos tienen audiciencia compartida entre los 3 dataframes? Es decir, que se hayan visto en USA, Canadá y México. \n",
    "\n",
    "**Puedes combinar los dataframes por la columna `video_id`**"
   ]
  },
  {
   "cell_type": "code",
   "execution_count": null,
   "metadata": {},
   "outputs": [],
   "source": []
  },
  {
   "cell_type": "markdown",
   "metadata": {},
   "source": [
    "## Ejercicio 9\n",
    "\n",
    "¿Cuál es el vídeo más visto que se vió en los 3 países? ¿Y el que tuvo más likes?"
   ]
  },
  {
   "cell_type": "code",
   "execution_count": null,
   "metadata": {},
   "outputs": [],
   "source": []
  }
 ],
 "metadata": {
  "kernelspec": {
   "display_name": "Python 3",
   "language": "python",
   "name": "python3"
  },
  "language_info": {
   "codemirror_mode": {
    "name": "ipython",
    "version": 3
   },
   "file_extension": ".py",
   "mimetype": "text/x-python",
   "name": "python",
   "nbconvert_exporter": "python",
   "pygments_lexer": "ipython3",
   "version": "3.9.5"
  },
  "orig_nbformat": 4
 },
 "nbformat": 4,
 "nbformat_minor": 2
}
