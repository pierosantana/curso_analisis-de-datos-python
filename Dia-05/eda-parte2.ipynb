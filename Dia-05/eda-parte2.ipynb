{
 "cells": [
  {
   "cell_type": "markdown",
   "metadata": {},
   "source": [
    "# **ANÁLISIS EXPLORATORIO DE DATOS PARTE 2**\n",
    "\n",
    "1. Tipos de datos \n",
    "\n",
    "2. Manejando valores vacíos\n",
    "\n",
    "3. Renombramiento columnas e índices\n",
    "\n",
    "4. Combinando dataframes\n",
    "\n",
    "5. Manejando fechas\n",
    "\n",
    "<img src=\"../imgs/foto-dia-03.jpg\" width=\"500px\" height=\"300px\">"
   ]
  },
  {
   "cell_type": "markdown",
   "metadata": {},
   "source": [
    "En esta clase vamos a trabajar con el dataset de canciones en Spotify en 2023, ejecuta la siguiente celda para ver las columnas del dataframe."
   ]
  },
  {
   "cell_type": "code",
   "execution_count": null,
   "metadata": {},
   "outputs": [],
   "source": []
  },
  {
   "cell_type": "markdown",
   "metadata": {},
   "source": [
    "### **1. Tipos de datos**"
   ]
  },
  {
   "cell_type": "markdown",
   "metadata": {},
   "source": [
    "El tipo de datos de una columna en un DataFrame o una Serie se conoce como **dtype**.\n",
    "\n",
    "Puedes utilizar la propiedad dtype para obtener el tipo de una columna específica. Por ejemplo, podemos obtener el dtype de la columna precio en el DataFrame revisiones:"
   ]
  },
  {
   "cell_type": "code",
   "execution_count": null,
   "metadata": {},
   "outputs": [],
   "source": []
  },
  {
   "cell_type": "markdown",
   "metadata": {},
   "source": [
    "Alternativamente, la propiedad dtypes devuelve el dtype de cada columna del DataFrame:"
   ]
  },
  {
   "cell_type": "code",
   "execution_count": null,
   "metadata": {},
   "outputs": [],
   "source": []
  },
  {
   "cell_type": "markdown",
   "metadata": {},
   "source": [
    "Los tipos de datos nos dicen algo sobre cómo pandas está almacenando los datos internamente. float64 significa que está usando un número de coma flotante de 64 bits; int64 significa un entero de tamaño similar, y así sucesivamente.\n",
    "\n",
    "Una peculiaridad a tener en cuenta (y que se muestra muy claramente aquí) es que las columnas que consisten enteramente en cadenas no tienen su propio tipo; en su lugar se les da el tipo de objeto.\n",
    "\n",
    "Es posible convertir una columna de un tipo en otro siempre que dicha conversión tenga sentido utilizando la función astype(). Por ejemplo, podemos transformar la columna de `artist_count` de su actual tipo de datos int64 a un tipo de datos float64:"
   ]
  },
  {
   "cell_type": "code",
   "execution_count": null,
   "metadata": {},
   "outputs": [],
   "source": []
  },
  {
   "cell_type": "markdown",
   "metadata": {},
   "source": [
    "Un índice DataFrame o Series también tiene su propio dtype:"
   ]
  },
  {
   "cell_type": "code",
   "execution_count": null,
   "metadata": {},
   "outputs": [],
   "source": []
  },
  {
   "cell_type": "markdown",
   "metadata": {},
   "source": [
    "### **2. Manejando valores vacíos**"
   ]
  },
  {
   "cell_type": "markdown",
   "metadata": {},
   "source": [
    "Los valores que faltan en los registros reciben el valor NaN, abreviatura de \"Not a Number\" (no es un número). Por razones técnicas estos valores NaN son siempre del tipo float64.\n",
    "\n",
    "Pandas proporciona algunos métodos específicos para datos perdidos. Para seleccionar registros NaN se puede utilizar pd.isnull() (o su compañera pd.notnull()). Esto está pensado para ser usado así:"
   ]
  },
  {
   "cell_type": "code",
   "execution_count": null,
   "metadata": {},
   "outputs": [],
   "source": []
  },
  {
   "cell_type": "markdown",
   "metadata": {},
   "source": [
    "Para saber que columnas tienen valores nulos dentro de nuestro dataframe podemos utilizar el siguiente código que nos dice el porcentaje de valores nulos para cada columna."
   ]
  },
  {
   "cell_type": "code",
   "execution_count": null,
   "metadata": {},
   "outputs": [],
   "source": []
  },
  {
   "cell_type": "markdown",
   "metadata": {},
   "source": [
    "Reemplazar valores NaN es una operación común. Pandas proporciona un método realmente práctico para este problema: `fillna()`. \n",
    "\n",
    "fillna() proporciona unas cuantas estrategias diferentes para mitigar tales datos. Por ejemplo, podemos simplemente reemplazar cada NaN por un \"Desconocido\":"
   ]
  },
  {
   "cell_type": "code",
   "execution_count": null,
   "metadata": {},
   "outputs": [],
   "source": []
  },
  {
   "cell_type": "markdown",
   "metadata": {},
   "source": [
    "O podemos rellenar cada valor que falte con el primer valor no nulo que aparezca en algún momento después del registro dado en la base de datos. Esto se conoce como estrategia de relleno.\n",
    "\n",
    "También podemos tener un valor no nulo que queramos sustituir. Por ejemplo, supongamos que desde que se publicó este conjunto de datos, Bad Bunny ha cambiado su nombre artístico a Good Bunny, pues esto lo podríamos reflejar así."
   ]
  },
  {
   "cell_type": "code",
   "execution_count": null,
   "metadata": {},
   "outputs": [],
   "source": []
  },
  {
   "cell_type": "markdown",
   "metadata": {},
   "source": [
    "### **3. Renombrando columnas e índices**"
   ]
  },
  {
   "cell_type": "markdown",
   "metadata": {},
   "source": [
    "A menudo los datos nos llegan con nombres de columnas, índices u otras convenciones de nomenclatura con las que no estamos satisfechos. Para eso tenemos las funciones `rename` y `rename_axis`"
   ]
  },
  {
   "cell_type": "markdown",
   "metadata": {},
   "source": [
    "La primera función rename(), permite cambiar los nombres de índices y/o columnas. Por ejemplo, para cambiar la columna nombre de artistas de nuestro conjunto de datos, haríamos:"
   ]
  },
  {
   "cell_type": "code",
   "execution_count": null,
   "metadata": {},
   "outputs": [],
   "source": []
  },
  {
   "cell_type": "markdown",
   "metadata": {},
   "source": [
    "`rename()` permite renombrar valores de índice o columna especificando un parámetro de palabra clave de índice o columna, respectivamente. Admite varios formatos de entrada, pero normalmente el más conveniente es un diccionario de Python. Un ejemplo que lo utiliza para renombrar algunos elementos del índice es el siguiente:"
   ]
  },
  {
   "cell_type": "code",
   "execution_count": null,
   "metadata": {},
   "outputs": [],
   "source": []
  },
  {
   "cell_type": "markdown",
   "metadata": {},
   "source": [
    "Probablemente renombrará columnas muy a menudo, pero renombrará valores de índice muy raramente. Para eso, `set_index()` suele ser más conveniente ya que normalmente renombraremos el índice con los valores de alguna columna.\n",
    "\n",
    "Tanto el índice de fila como el índice de columna pueden tener su propio atributo nombre. El método `rename_axis()` puede utilizarse para cambiar estos nombres. Por ejemplo:"
   ]
  },
  {
   "cell_type": "code",
   "execution_count": null,
   "metadata": {},
   "outputs": [],
   "source": []
  },
  {
   "cell_type": "markdown",
   "metadata": {},
   "source": [
    "### **4. Combinando dataframes**"
   ]
  },
  {
   "cell_type": "markdown",
   "metadata": {},
   "source": [
    "Al realizar operaciones en un conjunto de datos, a veces necesitaremos combinar diferentes DataFrames y/o Series de formas no sencillas. Pandas tiene tres métodos básicos para hacer esto. En orden de complejidad creciente, son `concat()`, `join()` y `merge()`. La mayor parte de lo que puede hacer merge() también se puede hacer de forma más sencilla con join(), por lo que la omitiremos y nos centraremos en las dos primeras funciones.\n",
    "\n",
    "El método de combinación más sencillo es concat(). Dada una lista de elementos, esta función los unirá a lo largo de un eje.\n",
    "\n",
    "Esto es útil cuando tenemos datos en diferentes objetos DataFrame o Series pero que tienen los mismos campos (columnas). Un ejemplo, es el que vamos a ver ahora con el conjunto de datos YouTube Videos, que divide los datos en función del país de origen (por ejemplo, Canadá y USA, en este ejemplo). Si queremos estudiar varios países a la vez, podemos utilizar concat() para agruparlos."
   ]
  },
  {
   "cell_type": "code",
   "execution_count": null,
   "metadata": {},
   "outputs": [],
   "source": []
  },
  {
   "cell_type": "markdown",
   "metadata": {},
   "source": [
    "El combinador intermedio en términos de complejidad es `join()`. join() permite combinar diferentes objetos DataFrame que tienen un índice en común. Por ejemplo, para obtener los vídeos que fueron tendencia el mismo día en Canadá y en USA, podemos hacer lo siguiente:"
   ]
  },
  {
   "cell_type": "code",
   "execution_count": null,
   "metadata": {},
   "outputs": [],
   "source": []
  },
  {
   "cell_type": "markdown",
   "metadata": {},
   "source": [
    "Los parámetros lsuffix y rsuffix son necesarios aquí porque los datos tienen los mismos nombres de columna en los conjuntos de datos británicos y estado unidenses. Si no fuera así (porque, por ejemplo, les hubiéramos cambiado el nombre de antemano) no los necesitaríamos."
   ]
  },
  {
   "cell_type": "markdown",
   "metadata": {},
   "source": [
    "### **5. Manejando fechas**"
   ]
  },
  {
   "cell_type": "markdown",
   "metadata": {},
   "source": [
    "En el análisis de datos, a menudo necesitamos trabajar con datos de fecha y hora. Pandas proporciona numerosas funciones y métodos para manejar eficazmente datos de fecha y hora. A continuación, vamos a ver algunas de las funciones más comunes para el manejo de fechas en Pandas:\n",
    "\n",
    "La función `pd.to_datetime()` se utiliza para convertir una columna a un tipo de dato de fecha y hora. Esto es útil cuando los datos de fecha y hora están en formato de cadena y necesitas convertirlos a un formato reconocido por Pandas."
   ]
  },
  {
   "cell_type": "code",
   "execution_count": null,
   "metadata": {},
   "outputs": [],
   "source": []
  },
  {
   "cell_type": "markdown",
   "metadata": {},
   "source": [
    "Es importante saber que podemos realizar extracciones de cierta parte de la fecha, como el mes o el año y también podemos realizar operaciones aritméticas para sumar o restar días, meses, etc..."
   ]
  },
  {
   "cell_type": "code",
   "execution_count": null,
   "metadata": {},
   "outputs": [],
   "source": []
  },
  {
   "cell_type": "markdown",
   "metadata": {},
   "source": [
    "Una vez que sabemos extraer ciertas partes de una fecha se nos abre una posibilidad a realizar estudios de agrupación y filtrado por estas partes de la fecha, en especial, esto es muy útil para utilizar el año."
   ]
  },
  {
   "cell_type": "code",
   "execution_count": null,
   "metadata": {},
   "outputs": [],
   "source": []
  }
 ],
 "metadata": {
  "kernelspec": {
   "display_name": "Python 3",
   "language": "python",
   "name": "python3"
  },
  "language_info": {
   "codemirror_mode": {
    "name": "ipython",
    "version": 3
   },
   "file_extension": ".py",
   "mimetype": "text/x-python",
   "name": "python",
   "nbconvert_exporter": "python",
   "pygments_lexer": "ipython3",
   "version": "3.9.5"
  },
  "orig_nbformat": 4
 },
 "nbformat": 4,
 "nbformat_minor": 2
}
