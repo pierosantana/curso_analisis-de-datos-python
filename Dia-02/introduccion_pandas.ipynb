{
 "cells": [
  {
   "cell_type": "markdown",
   "metadata": {},
   "source": [
    "# **INTRODUCCION A PANDAS**\n",
    "\n",
    "1. Instalación de Pandas\n",
    "\n",
    "2. Creación de dataframe\n",
    "\n",
    "3. Creación de series \n",
    "\n",
    "4. Lectura de datasets y exploración dataframe\n",
    "\n",
    "5. Escritura de dataframe en csv\n",
    "\n",
    "<img src=\"../imgs/foto-dia-01.jpg\" width=\"450px\" height=\"300px\">"
   ]
  },
  {
   "cell_type": "markdown",
   "metadata": {},
   "source": [
    "### **1. Instalación de Pandas**"
   ]
  },
  {
   "cell_type": "code",
   "execution_count": null,
   "metadata": {},
   "outputs": [],
   "source": []
  },
  {
   "cell_type": "markdown",
   "metadata": {},
   "source": [
    "### **2. Creación de dataframe**\n",
    "\n",
    "Hay dos objetos principales en pandas: los **DataFrame** y las **series**.\n",
    "\n",
    "Un DataFrame es una tabla. Contiene una matriz de entradas individuales, cada una de las cuales tiene un valor específico. Cada entrada corresponde a una fila (o registro) y una columna."
   ]
  },
  {
   "cell_type": "code",
   "execution_count": null,
   "metadata": {},
   "outputs": [],
   "source": []
  },
  {
   "cell_type": "markdown",
   "metadata": {},
   "source": [
    "En este ejemplo, la entrada \"0, No\" tiene el valor de 131. La entrada \"0, Yes\" tiene un valor de 50, y así sucesivamente.\n",
    "\n",
    "Las entradas de un DataFrame no están limitadas a enteros. Por ejemplo, aquí hay un DataFrame cuyos valores son cadenas de texto:"
   ]
  },
  {
   "cell_type": "code",
   "execution_count": null,
   "metadata": {},
   "outputs": [],
   "source": []
  },
  {
   "cell_type": "markdown",
   "metadata": {},
   "source": [
    "Estamos utilizando el constructor pd.DataFrame() para generar estos objetos DataFrame. La sintaxis para declarar uno nuevo es un diccionario cuyas claves son los nombres de las columnas (Bob y Sue en este ejemplo), y cuyos valores son una lista de entradas. Esta es la forma estándar de construir un nuevo DataFrame, y es la que es más probable que encuentres.\n",
    "\n",
    "El constructor de diccionario-lista asigna valores a las etiquetas de las columnas, pero solo utiliza un conteo ascendente desde 0 (0, 1, 2, 3, ...) para las etiquetas de las filas. A veces esto está bien, pero muchas veces querremos asignar estas etiquetas nosotros mismos.\n",
    "\n",
    "La lista de etiquetas de fila utilizada en un DataFrame se conoce como un Índice. Podemos asignar valores a este utilizando un parámetro de índice en nuestro constructor:"
   ]
  },
  {
   "cell_type": "code",
   "execution_count": null,
   "metadata": {},
   "outputs": [],
   "source": []
  },
  {
   "cell_type": "markdown",
   "metadata": {},
   "source": [
    "### **3. Series**\n",
    "\n",
    "Por otro lado, una Serie es una secuencia de valores de datos. Si un DataFrame es una tabla, una Serie es una lista. De hecho, puedes crear una Serie con nada más que una lista:"
   ]
  },
  {
   "cell_type": "code",
   "execution_count": null,
   "metadata": {},
   "outputs": [],
   "source": []
  },
  {
   "cell_type": "markdown",
   "metadata": {},
   "source": [
    "Una Serie es, en esencia, una única columna de un DataFrame. Por lo tanto, puedes asignar etiquetas de fila a la Serie de la misma manera que antes, utilizando un parámetro de índice. Sin embargo, una Serie no tiene un nombre de columna, solo tiene un nombre general:"
   ]
  },
  {
   "cell_type": "code",
   "execution_count": null,
   "metadata": {},
   "outputs": [],
   "source": []
  },
  {
   "cell_type": "markdown",
   "metadata": {},
   "source": [
    "La Serie y el DataFrame están íntimamente relacionados. Es útil pensar en un DataFrame como simplemente un conjunto de Series. Veremos más de esto en el curso."
   ]
  },
  {
   "cell_type": "markdown",
   "metadata": {},
   "source": [
    "### **4. Lectura de datasets**\n",
    "\n",
    "Poder crear un DataFrame o una Serie manualmente es útil. Pero, la mayoría de las veces, en realidad no estaremos creando nuestros propios datos manualmente. En cambio, estaremos trabajando con datos que ya existen.\n",
    "\n",
    "Los datos pueden almacenarse en cualquiera de una serie de formas y formatos diferentes. Por mucho, el más básico de estos es el humilde archivo CSV. Cuando abres un archivo CSV, obtienes algo que se ve así:\n",
    "\n",
    "Producto A,Producto B,Producto C,\n",
    "- 30,21,9,\n",
    "- 35,34,1,\n",
    "- 41,11,11\n",
    "\n",
    "\n",
    "Entonces, un archivo CSV es una tabla de valores separados por comas. De ahí el nombre: \"Comma-Separated Values\", o CSV.\n",
    "\n",
    "Ahora, dejemos de lado nuestros conjuntos de datos de juguete y veamos cómo se ve un conjunto de datos real cuando lo leemos en un DataFrame. Usaremos la función **pd.read_csv()** para leer los datos en un DataFrame. Esto se hace de la siguiente manera:"
   ]
  },
  {
   "cell_type": "code",
   "execution_count": null,
   "metadata": {},
   "outputs": [],
   "source": []
  },
  {
   "cell_type": "markdown",
   "metadata": {},
   "source": [
    "Podemos usar el atributo shape para verificar cuán grande es el DataFrame resultante:"
   ]
  },
  {
   "cell_type": "code",
   "execution_count": null,
   "metadata": {},
   "outputs": [],
   "source": []
  },
  {
   "cell_type": "markdown",
   "metadata": {},
   "source": [
    "Entonces, nuestro nuevo DataFrame tiene 2249 registros divididos en 21 columnas diferentes.\n",
    "\n",
    "Podemos examinar el contenido del DataFrame resultante usando el comando head(), que toma las primeras cinco filas:"
   ]
  },
  {
   "cell_type": "code",
   "execution_count": null,
   "metadata": {},
   "outputs": [],
   "source": []
  },
  {
   "cell_type": "markdown",
   "metadata": {},
   "source": [
    "La función pd.read_csv() es muy amplia, con más de 30 parámetros opcionales que puedes especificar. Por ejemplo, puedes ver en este conjunto de datos que el archivo CSV tiene un índice incorporado, que pandas no recogió automáticamente. Para hacer que pandas use esa columna como índice (en lugar de crear uno nuevo desde cero), podemos especificar un index_col para que tome el index desde una columna, en este caso va a tomar el index de cada fila de la primera columna del dataset y esta no lo va a mostrar."
   ]
  },
  {
   "cell_type": "code",
   "execution_count": null,
   "metadata": {},
   "outputs": [],
   "source": []
  },
  {
   "cell_type": "markdown",
   "metadata": {},
   "source": [
    "### **5. Escritura de dataframe en csv**\n",
    "\n",
    "Una vez que leemos un dataframe y aplicamos transformaciones en los datos sobre él, es interesante volver a escribirlo con dichas modificaciones para guardarlo y usarlo en un futuro o poder compartir nuestro trabajo, para eso existe el método **to_csv()**"
   ]
  },
  {
   "cell_type": "code",
   "execution_count": null,
   "metadata": {},
   "outputs": [],
   "source": []
  }
 ],
 "metadata": {
  "kernelspec": {
   "display_name": "Python 3",
   "language": "python",
   "name": "python3"
  },
  "language_info": {
   "codemirror_mode": {
    "name": "ipython",
    "version": 3
   },
   "file_extension": ".py",
   "mimetype": "text/x-python",
   "name": "python",
   "nbconvert_exporter": "python",
   "pygments_lexer": "ipython3",
   "version": "3.9.5"
  },
  "orig_nbformat": 4
 },
 "nbformat": 4,
 "nbformat_minor": 2
}
