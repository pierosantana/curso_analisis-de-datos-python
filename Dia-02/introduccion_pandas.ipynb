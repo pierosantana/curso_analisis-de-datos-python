{
 "cells": [
  {
   "cell_type": "markdown",
   "metadata": {},
   "source": [
    "# **INTRODUCCION A PANDAS**\n",
    "\n",
    "1. Instalación de Pandas\n",
    "\n",
    "2. Creación de dataframe\n",
    "\n",
    "3. Creación de series \n",
    "\n",
    "4. Lectura de datasets y exploración dataframe\n",
    "\n",
    "5. Escritura de dataframe en csv\n",
    "\n",
    "<img src=\"../imgs/foto-dia-01.jpg\" width=\"450px\" height=\"300px\">"
   ]
  },
  {
   "cell_type": "markdown",
   "metadata": {},
   "source": [
    "### **1. Instalación de Pandas**"
   ]
  },
  {
   "cell_type": "code",
   "execution_count": 1,
   "metadata": {},
   "outputs": [
    {
     "name": "stdout",
     "output_type": "stream",
     "text": [
      "Collecting pandas\n",
      "  Downloading pandas-2.2.3-cp39-cp39-macosx_11_0_arm64.whl (11.3 MB)\n",
      "\u001b[K     |████████████████████████████████| 11.3 MB 3.4 MB/s eta 0:00:01\n",
      "\u001b[?25hCollecting numpy>=1.22.4\n",
      "  Downloading numpy-2.0.2-cp39-cp39-macosx_14_0_arm64.whl (5.3 MB)\n",
      "\u001b[K     |████████████████████████████████| 5.3 MB 3.5 MB/s eta 0:00:01\n",
      "\u001b[?25hCollecting pytz>=2020.1\n",
      "  Downloading pytz-2025.1-py2.py3-none-any.whl (507 kB)\n",
      "\u001b[K     |████████████████████████████████| 507 kB 14.9 MB/s eta 0:00:01\n",
      "\u001b[?25hCollecting tzdata>=2022.7\n",
      "  Downloading tzdata-2025.1-py2.py3-none-any.whl (346 kB)\n",
      "\u001b[K     |████████████████████████████████| 346 kB 94.4 MB/s eta 0:00:01\n",
      "\u001b[?25hRequirement already satisfied: python-dateutil>=2.8.2 in /Library/Frameworks/Python.framework/Versions/3.9/lib/python3.9/site-packages (from pandas) (2.9.0.post0)\n",
      "Requirement already satisfied: six>=1.5 in /Library/Frameworks/Python.framework/Versions/3.9/lib/python3.9/site-packages (from python-dateutil>=2.8.2->pandas) (1.17.0)\n",
      "Installing collected packages: tzdata, pytz, numpy, pandas\n",
      "Successfully installed numpy-2.0.2 pandas-2.2.3 pytz-2025.1 tzdata-2025.1\n",
      "\u001b[33mWARNING: You are using pip version 21.1.1; however, version 25.0.1 is available.\n",
      "You should consider upgrading via the '/usr/local/bin/python3 -m pip install --upgrade pip' command.\u001b[0m\n",
      "Note: you may need to restart the kernel to use updated packages.\n"
     ]
    }
   ],
   "source": [
    "%pip install pandas"
   ]
  },
  {
   "cell_type": "markdown",
   "metadata": {},
   "source": [
    "### **2. Creación de dataframe**\n",
    "\n",
    "Hay dos objetos principales en pandas: los **DataFrame** y las **series**.\n",
    "\n",
    "Un DataFrame es una tabla. Contiene una matriz de entradas individuales, cada una de las cuales tiene un valor específico. Cada entrada corresponde a una fila (o registro) y una columna."
   ]
  },
  {
   "cell_type": "code",
   "execution_count": null,
   "metadata": {},
   "outputs": [
    {
     "data": {
      "text/html": [
       "<div>\n",
       "<style scoped>\n",
       "    .dataframe tbody tr th:only-of-type {\n",
       "        vertical-align: middle;\n",
       "    }\n",
       "\n",
       "    .dataframe tbody tr th {\n",
       "        vertical-align: top;\n",
       "    }\n",
       "\n",
       "    .dataframe thead th {\n",
       "        text-align: right;\n",
       "    }\n",
       "</style>\n",
       "<table border=\"1\" class=\"dataframe\">\n",
       "  <thead>\n",
       "    <tr style=\"text-align: right;\">\n",
       "      <th></th>\n",
       "      <th>Yes</th>\n",
       "      <th>No</th>\n",
       "      <th>Pregunta:</th>\n",
       "    </tr>\n",
       "  </thead>\n",
       "  <tbody>\n",
       "    <tr>\n",
       "      <th>0</th>\n",
       "      <td>50</td>\n",
       "      <td>131</td>\n",
       "      <td>¿Eres terraplanista?</td>\n",
       "    </tr>\n",
       "    <tr>\n",
       "      <th>1</th>\n",
       "      <td>21</td>\n",
       "      <td>2</td>\n",
       "      <td>¿Te gusta el futbol?</td>\n",
       "    </tr>\n",
       "  </tbody>\n",
       "</table>\n",
       "</div>"
      ],
      "text/plain": [
       "   Yes   No             Pregunta:\n",
       "0   50  131  ¿Eres terraplanista?\n",
       "1   21    2  ¿Te gusta el futbol?"
      ]
     },
     "execution_count": 5,
     "metadata": {},
     "output_type": "execute_result"
    }
   ],
   "source": [
    "import pandas as pd\n",
    "\n",
    "df = pd.DataFrame({\"Yes\": [50, 21], \"No\": [131,2], \"Pregunta\": ['¿Eres terraplanista?', '¿Te gusta el futbol?']})\n",
    "df"
   ]
  },
  {
   "cell_type": "markdown",
   "metadata": {},
   "source": [
    "En este ejemplo, la entrada \"0, No\" tiene el valor de 131. La entrada \"0, Yes\" tiene un valor de 50, y así sucesivamente.\n",
    "\n",
    "Las entradas de un DataFrame no están limitadas a enteros. Por ejemplo, aquí hay un DataFrame cuyos valores son cadenas de texto:"
   ]
  },
  {
   "cell_type": "code",
   "execution_count": 27,
   "metadata": {},
   "outputs": [
    {
     "data": {
      "text/html": [
       "<div>\n",
       "<style scoped>\n",
       "    .dataframe tbody tr th:only-of-type {\n",
       "        vertical-align: middle;\n",
       "    }\n",
       "\n",
       "    .dataframe tbody tr th {\n",
       "        vertical-align: top;\n",
       "    }\n",
       "\n",
       "    .dataframe thead th {\n",
       "        text-align: right;\n",
       "    }\n",
       "</style>\n",
       "<table border=\"1\" class=\"dataframe\">\n",
       "  <thead>\n",
       "    <tr style=\"text-align: right;\">\n",
       "      <th></th>\n",
       "      <th>Bob</th>\n",
       "      <th>Sue</th>\n",
       "    </tr>\n",
       "  </thead>\n",
       "  <tbody>\n",
       "    <tr>\n",
       "      <th>0</th>\n",
       "      <td>Me gusta</td>\n",
       "      <td>Muy bien</td>\n",
       "    </tr>\n",
       "    <tr>\n",
       "      <th>1</th>\n",
       "      <td>Horroroso</td>\n",
       "      <td>Un poco soso</td>\n",
       "    </tr>\n",
       "  </tbody>\n",
       "</table>\n",
       "</div>"
      ],
      "text/plain": [
       "         Bob           Sue\n",
       "0   Me gusta      Muy bien\n",
       "1  Horroroso  Un poco soso"
      ]
     },
     "execution_count": 27,
     "metadata": {},
     "output_type": "execute_result"
    }
   ],
   "source": [
    "pd.DataFrame({'Bob': ['Me gusta', 'Horroroso'], 'Sue': ['Muy bien', 'Un poco soso']})\n"
   ]
  },
  {
   "cell_type": "markdown",
   "metadata": {},
   "source": [
    "Estamos utilizando el constructor pd.DataFrame() para generar estos objetos DataFrame. La sintaxis para declarar uno nuevo es un diccionario cuyas claves son los nombres de las columnas (Bob y Sue en este ejemplo), y cuyos valores son una lista de entradas. Esta es la forma estándar de construir un nuevo DataFrame, y es la que es más probable que encuentres.\n",
    "\n",
    "El constructor de diccionario-lista asigna valores a las etiquetas de las columnas, pero solo utiliza un conteo ascendente desde 0 (0, 1, 2, 3, ...) para las etiquetas de las filas. A veces esto está bien, pero muchas veces querremos asignar estas etiquetas nosotros mismos.\n",
    "\n",
    "La lista de etiquetas de fila utilizada en un DataFrame se conoce como un Índice. Podemos asignar valores a este utilizando un parámetro de índice en nuestro constructor:"
   ]
  },
  {
   "cell_type": "code",
   "execution_count": 18,
   "metadata": {},
   "outputs": [
    {
     "data": {
      "text/html": [
       "<div>\n",
       "<style scoped>\n",
       "    .dataframe tbody tr th:only-of-type {\n",
       "        vertical-align: middle;\n",
       "    }\n",
       "\n",
       "    .dataframe tbody tr th {\n",
       "        vertical-align: top;\n",
       "    }\n",
       "\n",
       "    .dataframe thead th {\n",
       "        text-align: right;\n",
       "    }\n",
       "</style>\n",
       "<table border=\"1\" class=\"dataframe\">\n",
       "  <thead>\n",
       "    <tr style=\"text-align: right;\">\n",
       "      <th></th>\n",
       "      <th>Bob</th>\n",
       "      <th>Sue</th>\n",
       "    </tr>\n",
       "  </thead>\n",
       "  <tbody>\n",
       "    <tr>\n",
       "      <th>Producto A</th>\n",
       "      <td>Me gusta</td>\n",
       "      <td>Muy bien</td>\n",
       "    </tr>\n",
       "    <tr>\n",
       "      <th>Producto B</th>\n",
       "      <td>Horroroso</td>\n",
       "      <td>Un poco soso</td>\n",
       "    </tr>\n",
       "  </tbody>\n",
       "</table>\n",
       "</div>"
      ],
      "text/plain": [
       "                  Bob           Sue\n",
       "Producto A   Me gusta      Muy bien\n",
       "Producto B  Horroroso  Un poco soso"
      ]
     },
     "execution_count": 18,
     "metadata": {},
     "output_type": "execute_result"
    }
   ],
   "source": [
    "pd.DataFrame({'Bob': ['Me gusta', 'Horroroso'], 'Sue': ['Muy bien', 'Un poco soso']}, index=['Producto A', 'Producto B'])\n"
   ]
  },
  {
   "cell_type": "markdown",
   "metadata": {},
   "source": [
    "### **3. Series**\n",
    "\n",
    "Por otro lado, una Serie es una secuencia de valores de datos. Si un DataFrame es una tabla, una Serie es una lista. De hecho, puedes crear una Serie con nada más que una lista:"
   ]
  },
  {
   "cell_type": "code",
   "execution_count": 12,
   "metadata": {},
   "outputs": [
    {
     "data": {
      "text/plain": [
       "0    1\n",
       "1    2\n",
       "2    3\n",
       "3    4\n",
       "4    5\n",
       "dtype: int64"
      ]
     },
     "execution_count": 12,
     "metadata": {},
     "output_type": "execute_result"
    }
   ],
   "source": [
    "pd.Series([1,2,3,4,5])"
   ]
  },
  {
   "cell_type": "markdown",
   "metadata": {},
   "source": [
    "Una Serie es, en esencia, una única columna de un DataFrame. Por lo tanto, puedes asignar etiquetas de fila a la Serie de la misma manera que antes, utilizando un parámetro de índice. Sin embargo, una Serie no tiene un nombre de columna, solo tiene un nombre general:"
   ]
  },
  {
   "cell_type": "code",
   "execution_count": 16,
   "metadata": {},
   "outputs": [
    {
     "data": {
      "text/plain": [
       "Bajo     10\n",
       "Medio    30\n",
       "Alto     80\n",
       "Name: Ventas, dtype: int64"
      ]
     },
     "execution_count": 16,
     "metadata": {},
     "output_type": "execute_result"
    }
   ],
   "source": [
    "pd.Series([10,30,80], index=['Bajo', 'Medio', 'Alto'],name='Ventas')"
   ]
  },
  {
   "cell_type": "markdown",
   "metadata": {},
   "source": [
    "La Serie y el DataFrame están íntimamente relacionados. Es útil pensar en un DataFrame como simplemente un conjunto de Series. Veremos más de esto en el curso."
   ]
  },
  {
   "cell_type": "markdown",
   "metadata": {},
   "source": [
    "### **4. Lectura de datasets**\n",
    "\n",
    "Poder crear un DataFrame o una Serie manualmente es útil. Pero, la mayoría de las veces, en realidad no estaremos creando nuestros propios datos manualmente. En cambio, estaremos trabajando con datos que ya existen.\n",
    "\n",
    "Los datos pueden almacenarse en cualquiera de una serie de formas y formatos diferentes. Por mucho, el más básico de estos es el humilde archivo CSV. Cuando abres un archivo CSV, obtienes algo que se ve así:\n",
    "\n",
    "Producto A,Producto B,Producto C,\n",
    "- 30,21,9,\n",
    "- 35,34,1,\n",
    "- 41,11,11\n",
    "\n",
    "\n",
    "Entonces, un archivo CSV es una tabla de valores separados por comas. De ahí el nombre: \"Comma-Separated Values\", o CSV.\n",
    "\n",
    "Ahora, dejemos de lado nuestros conjuntos de datos de juguete y veamos cómo se ve un conjunto de datos real cuando lo leemos en un DataFrame. Usaremos la función **pd.read_csv()** para leer los datos en un DataFrame. Esto se hace de la siguiente manera:"
   ]
  },
  {
   "cell_type": "code",
   "execution_count": 28,
   "metadata": {},
   "outputs": [],
   "source": [
    "ryanair_reviews = pd.read_csv('datasets/ryanair_reviews.csv')"
   ]
  },
  {
   "cell_type": "markdown",
   "metadata": {},
   "source": [
    "Podemos usar el atributo shape para verificar cuán grande es el DataFrame resultante:"
   ]
  },
  {
   "cell_type": "code",
   "execution_count": 29,
   "metadata": {},
   "outputs": [
    {
     "data": {
      "text/plain": [
       "(2249, 21)"
      ]
     },
     "execution_count": 29,
     "metadata": {},
     "output_type": "execute_result"
    }
   ],
   "source": [
    "ryanair_reviews.shape"
   ]
  },
  {
   "cell_type": "markdown",
   "metadata": {},
   "source": [
    "Entonces, nuestro nuevo DataFrame tiene 2249 registros divididos en 21 columnas diferentes.\n",
    "\n",
    "Podemos examinar el contenido del DataFrame resultante usando el comando head(), que toma las primeras cinco filas:"
   ]
  },
  {
   "cell_type": "code",
   "execution_count": 30,
   "metadata": {},
   "outputs": [
    {
     "data": {
      "text/html": [
       "<div>\n",
       "<style scoped>\n",
       "    .dataframe tbody tr th:only-of-type {\n",
       "        vertical-align: middle;\n",
       "    }\n",
       "\n",
       "    .dataframe tbody tr th {\n",
       "        vertical-align: top;\n",
       "    }\n",
       "\n",
       "    .dataframe thead th {\n",
       "        text-align: right;\n",
       "    }\n",
       "</style>\n",
       "<table border=\"1\" class=\"dataframe\">\n",
       "  <thead>\n",
       "    <tr style=\"text-align: right;\">\n",
       "      <th></th>\n",
       "      <th>Unnamed: 0</th>\n",
       "      <th>Date Published</th>\n",
       "      <th>Overall Rating</th>\n",
       "      <th>Passenger Country</th>\n",
       "      <th>Trip_verified</th>\n",
       "      <th>Comment title</th>\n",
       "      <th>Comment</th>\n",
       "      <th>Aircraft</th>\n",
       "      <th>Type Of Traveller</th>\n",
       "      <th>Seat Type</th>\n",
       "      <th>...</th>\n",
       "      <th>Destination</th>\n",
       "      <th>Date Flown</th>\n",
       "      <th>Seat Comfort</th>\n",
       "      <th>Cabin Staff Service</th>\n",
       "      <th>Food &amp; Beverages</th>\n",
       "      <th>Ground Service</th>\n",
       "      <th>Value For Money</th>\n",
       "      <th>Recommended</th>\n",
       "      <th>Inflight Entertainment</th>\n",
       "      <th>Wifi &amp; Connectivity</th>\n",
       "    </tr>\n",
       "  </thead>\n",
       "  <tbody>\n",
       "    <tr>\n",
       "      <th>0</th>\n",
       "      <td>0</td>\n",
       "      <td>2024-02-03</td>\n",
       "      <td>10.0</td>\n",
       "      <td>United Kingdom</td>\n",
       "      <td>Not Verified</td>\n",
       "      <td>\"bang on time and smooth flights\"</td>\n",
       "      <td>Flew back from Faro to London Luton Friday 2nd...</td>\n",
       "      <td>Boeing 737 900</td>\n",
       "      <td>Family Leisure</td>\n",
       "      <td>Economy Class</td>\n",
       "      <td>...</td>\n",
       "      <td>Luton</td>\n",
       "      <td>February 2024</td>\n",
       "      <td>4.0</td>\n",
       "      <td>5.0</td>\n",
       "      <td>3.0</td>\n",
       "      <td>4.0</td>\n",
       "      <td>4.0</td>\n",
       "      <td>yes</td>\n",
       "      <td>NaN</td>\n",
       "      <td>NaN</td>\n",
       "    </tr>\n",
       "    <tr>\n",
       "      <th>1</th>\n",
       "      <td>1</td>\n",
       "      <td>2024-01-26</td>\n",
       "      <td>10.0</td>\n",
       "      <td>United Kingdom</td>\n",
       "      <td>Trip Verified</td>\n",
       "      <td>\"Another good affordable flight\"</td>\n",
       "      <td>Another good affordable flight with Ryanair. O...</td>\n",
       "      <td>NaN</td>\n",
       "      <td>Couple Leisure</td>\n",
       "      <td>Economy Class</td>\n",
       "      <td>...</td>\n",
       "      <td>Alicante</td>\n",
       "      <td>January 2024</td>\n",
       "      <td>3.0</td>\n",
       "      <td>5.0</td>\n",
       "      <td>3.0</td>\n",
       "      <td>5.0</td>\n",
       "      <td>5.0</td>\n",
       "      <td>yes</td>\n",
       "      <td>NaN</td>\n",
       "      <td>NaN</td>\n",
       "    </tr>\n",
       "    <tr>\n",
       "      <th>2</th>\n",
       "      <td>2</td>\n",
       "      <td>2024-01-20</td>\n",
       "      <td>10.0</td>\n",
       "      <td>United Kingdom</td>\n",
       "      <td>Trip Verified</td>\n",
       "      <td>“Really impressed!”</td>\n",
       "      <td>Really impressed! You get what you pay for, th...</td>\n",
       "      <td>Boeing 737-800</td>\n",
       "      <td>Couple Leisure</td>\n",
       "      <td>Economy Class</td>\n",
       "      <td>...</td>\n",
       "      <td>Paris Beauvais</td>\n",
       "      <td>October 2023</td>\n",
       "      <td>5.0</td>\n",
       "      <td>5.0</td>\n",
       "      <td>4.0</td>\n",
       "      <td>5.0</td>\n",
       "      <td>5.0</td>\n",
       "      <td>yes</td>\n",
       "      <td>NaN</td>\n",
       "      <td>NaN</td>\n",
       "    </tr>\n",
       "    <tr>\n",
       "      <th>3</th>\n",
       "      <td>3</td>\n",
       "      <td>2024-01-07</td>\n",
       "      <td>6.0</td>\n",
       "      <td>United Kingdom</td>\n",
       "      <td>Trip Verified</td>\n",
       "      <td>“a decent offering from Ryanair”</td>\n",
       "      <td>I should like to review my flight from Faro to...</td>\n",
       "      <td>Boeing 737</td>\n",
       "      <td>Solo Leisure</td>\n",
       "      <td>Economy Class</td>\n",
       "      <td>...</td>\n",
       "      <td>Liverpool</td>\n",
       "      <td>January 2024</td>\n",
       "      <td>3.0</td>\n",
       "      <td>2.0</td>\n",
       "      <td>1.0</td>\n",
       "      <td>3.0</td>\n",
       "      <td>3.0</td>\n",
       "      <td>yes</td>\n",
       "      <td>NaN</td>\n",
       "      <td>NaN</td>\n",
       "    </tr>\n",
       "    <tr>\n",
       "      <th>4</th>\n",
       "      <td>4</td>\n",
       "      <td>2024-01-06</td>\n",
       "      <td>10.0</td>\n",
       "      <td>Israel</td>\n",
       "      <td>Trip Verified</td>\n",
       "      <td>“cabin crew were welcoming and friendly”</td>\n",
       "      <td>Flight left the gate ahead of schedule, fare w...</td>\n",
       "      <td>Boeing 737-800</td>\n",
       "      <td>Solo Leisure</td>\n",
       "      <td>Economy Class</td>\n",
       "      <td>...</td>\n",
       "      <td>Manchester</td>\n",
       "      <td>January 2024</td>\n",
       "      <td>4.0</td>\n",
       "      <td>5.0</td>\n",
       "      <td>NaN</td>\n",
       "      <td>4.0</td>\n",
       "      <td>5.0</td>\n",
       "      <td>yes</td>\n",
       "      <td>NaN</td>\n",
       "      <td>NaN</td>\n",
       "    </tr>\n",
       "  </tbody>\n",
       "</table>\n",
       "<p>5 rows × 21 columns</p>\n",
       "</div>"
      ],
      "text/plain": [
       "   Unnamed: 0 Date Published  Overall Rating Passenger Country  Trip_verified  \\\n",
       "0           0     2024-02-03            10.0    United Kingdom   Not Verified   \n",
       "1           1     2024-01-26            10.0    United Kingdom  Trip Verified   \n",
       "2           2     2024-01-20            10.0    United Kingdom  Trip Verified   \n",
       "3           3     2024-01-07             6.0    United Kingdom  Trip Verified   \n",
       "4           4     2024-01-06            10.0            Israel  Trip Verified   \n",
       "\n",
       "                              Comment title  \\\n",
       "0         \"bang on time and smooth flights\"   \n",
       "1          \"Another good affordable flight\"   \n",
       "2                       “Really impressed!”   \n",
       "3          “a decent offering from Ryanair”   \n",
       "4  “cabin crew were welcoming and friendly”   \n",
       "\n",
       "                                             Comment        Aircraft  \\\n",
       "0  Flew back from Faro to London Luton Friday 2nd...  Boeing 737 900   \n",
       "1  Another good affordable flight with Ryanair. O...             NaN   \n",
       "2  Really impressed! You get what you pay for, th...  Boeing 737-800   \n",
       "3  I should like to review my flight from Faro to...      Boeing 737   \n",
       "4  Flight left the gate ahead of schedule, fare w...  Boeing 737-800   \n",
       "\n",
       "  Type Of Traveller      Seat Type  ...     Destination     Date Flown  \\\n",
       "0    Family Leisure  Economy Class  ...           Luton  February 2024   \n",
       "1    Couple Leisure  Economy Class  ...        Alicante   January 2024   \n",
       "2    Couple Leisure  Economy Class  ...  Paris Beauvais   October 2023   \n",
       "3      Solo Leisure  Economy Class  ...       Liverpool   January 2024   \n",
       "4      Solo Leisure  Economy Class  ...      Manchester   January 2024   \n",
       "\n",
       "  Seat Comfort  Cabin Staff Service  Food & Beverages  Ground Service  \\\n",
       "0          4.0                  5.0               3.0             4.0   \n",
       "1          3.0                  5.0               3.0             5.0   \n",
       "2          5.0                  5.0               4.0             5.0   \n",
       "3          3.0                  2.0               1.0             3.0   \n",
       "4          4.0                  5.0               NaN             4.0   \n",
       "\n",
       "   Value For Money  Recommended Inflight Entertainment  Wifi & Connectivity  \n",
       "0              4.0          yes                    NaN                  NaN  \n",
       "1              5.0          yes                    NaN                  NaN  \n",
       "2              5.0          yes                    NaN                  NaN  \n",
       "3              3.0          yes                    NaN                  NaN  \n",
       "4              5.0          yes                    NaN                  NaN  \n",
       "\n",
       "[5 rows x 21 columns]"
      ]
     },
     "execution_count": 30,
     "metadata": {},
     "output_type": "execute_result"
    }
   ],
   "source": [
    "ryanair_reviews.head()"
   ]
  },
  {
   "cell_type": "markdown",
   "metadata": {},
   "source": [
    "La función pd.read_csv() es muy amplia, con más de 30 parámetros opcionales que puedes especificar. Por ejemplo, puedes ver en este conjunto de datos que el archivo CSV tiene un índice incorporado, que pandas no recogió automáticamente. Para hacer que pandas use esa columna como índice (en lugar de crear uno nuevo desde cero), podemos especificar un index_col para que tome el index desde una columna, en este caso va a tomar el index de cada fila de la primera columna del dataset y esta no lo va a mostrar."
   ]
  },
  {
   "cell_type": "code",
   "execution_count": 32,
   "metadata": {},
   "outputs": [
    {
     "data": {
      "text/html": [
       "<div>\n",
       "<style scoped>\n",
       "    .dataframe tbody tr th:only-of-type {\n",
       "        vertical-align: middle;\n",
       "    }\n",
       "\n",
       "    .dataframe tbody tr th {\n",
       "        vertical-align: top;\n",
       "    }\n",
       "\n",
       "    .dataframe thead th {\n",
       "        text-align: right;\n",
       "    }\n",
       "</style>\n",
       "<table border=\"1\" class=\"dataframe\">\n",
       "  <thead>\n",
       "    <tr style=\"text-align: right;\">\n",
       "      <th></th>\n",
       "      <th>Date Published</th>\n",
       "      <th>Overall Rating</th>\n",
       "      <th>Passenger Country</th>\n",
       "      <th>Trip_verified</th>\n",
       "      <th>Comment title</th>\n",
       "      <th>Comment</th>\n",
       "      <th>Aircraft</th>\n",
       "      <th>Type Of Traveller</th>\n",
       "      <th>Seat Type</th>\n",
       "      <th>Origin</th>\n",
       "      <th>Destination</th>\n",
       "      <th>Date Flown</th>\n",
       "      <th>Seat Comfort</th>\n",
       "      <th>Cabin Staff Service</th>\n",
       "      <th>Food &amp; Beverages</th>\n",
       "      <th>Ground Service</th>\n",
       "      <th>Value For Money</th>\n",
       "      <th>Recommended</th>\n",
       "      <th>Inflight Entertainment</th>\n",
       "      <th>Wifi &amp; Connectivity</th>\n",
       "    </tr>\n",
       "  </thead>\n",
       "  <tbody>\n",
       "    <tr>\n",
       "      <th>0</th>\n",
       "      <td>2024-02-03</td>\n",
       "      <td>10.0</td>\n",
       "      <td>United Kingdom</td>\n",
       "      <td>Not Verified</td>\n",
       "      <td>\"bang on time and smooth flights\"</td>\n",
       "      <td>Flew back from Faro to London Luton Friday 2nd...</td>\n",
       "      <td>Boeing 737 900</td>\n",
       "      <td>Family Leisure</td>\n",
       "      <td>Economy Class</td>\n",
       "      <td>Faro</td>\n",
       "      <td>Luton</td>\n",
       "      <td>February 2024</td>\n",
       "      <td>4.0</td>\n",
       "      <td>5.0</td>\n",
       "      <td>3.0</td>\n",
       "      <td>4.0</td>\n",
       "      <td>4.0</td>\n",
       "      <td>yes</td>\n",
       "      <td>NaN</td>\n",
       "      <td>NaN</td>\n",
       "    </tr>\n",
       "    <tr>\n",
       "      <th>1</th>\n",
       "      <td>2024-01-26</td>\n",
       "      <td>10.0</td>\n",
       "      <td>United Kingdom</td>\n",
       "      <td>Trip Verified</td>\n",
       "      <td>\"Another good affordable flight\"</td>\n",
       "      <td>Another good affordable flight with Ryanair. O...</td>\n",
       "      <td>NaN</td>\n",
       "      <td>Couple Leisure</td>\n",
       "      <td>Economy Class</td>\n",
       "      <td>Belfast</td>\n",
       "      <td>Alicante</td>\n",
       "      <td>January 2024</td>\n",
       "      <td>3.0</td>\n",
       "      <td>5.0</td>\n",
       "      <td>3.0</td>\n",
       "      <td>5.0</td>\n",
       "      <td>5.0</td>\n",
       "      <td>yes</td>\n",
       "      <td>NaN</td>\n",
       "      <td>NaN</td>\n",
       "    </tr>\n",
       "    <tr>\n",
       "      <th>2</th>\n",
       "      <td>2024-01-20</td>\n",
       "      <td>10.0</td>\n",
       "      <td>United Kingdom</td>\n",
       "      <td>Trip Verified</td>\n",
       "      <td>“Really impressed!”</td>\n",
       "      <td>Really impressed! You get what you pay for, th...</td>\n",
       "      <td>Boeing 737-800</td>\n",
       "      <td>Couple Leisure</td>\n",
       "      <td>Economy Class</td>\n",
       "      <td>Edinburgh</td>\n",
       "      <td>Paris Beauvais</td>\n",
       "      <td>October 2023</td>\n",
       "      <td>5.0</td>\n",
       "      <td>5.0</td>\n",
       "      <td>4.0</td>\n",
       "      <td>5.0</td>\n",
       "      <td>5.0</td>\n",
       "      <td>yes</td>\n",
       "      <td>NaN</td>\n",
       "      <td>NaN</td>\n",
       "    </tr>\n",
       "    <tr>\n",
       "      <th>3</th>\n",
       "      <td>2024-01-07</td>\n",
       "      <td>6.0</td>\n",
       "      <td>United Kingdom</td>\n",
       "      <td>Trip Verified</td>\n",
       "      <td>“a decent offering from Ryanair”</td>\n",
       "      <td>I should like to review my flight from Faro to...</td>\n",
       "      <td>Boeing 737</td>\n",
       "      <td>Solo Leisure</td>\n",
       "      <td>Economy Class</td>\n",
       "      <td>Faro</td>\n",
       "      <td>Liverpool</td>\n",
       "      <td>January 2024</td>\n",
       "      <td>3.0</td>\n",
       "      <td>2.0</td>\n",
       "      <td>1.0</td>\n",
       "      <td>3.0</td>\n",
       "      <td>3.0</td>\n",
       "      <td>yes</td>\n",
       "      <td>NaN</td>\n",
       "      <td>NaN</td>\n",
       "    </tr>\n",
       "    <tr>\n",
       "      <th>4</th>\n",
       "      <td>2024-01-06</td>\n",
       "      <td>10.0</td>\n",
       "      <td>Israel</td>\n",
       "      <td>Trip Verified</td>\n",
       "      <td>“cabin crew were welcoming and friendly”</td>\n",
       "      <td>Flight left the gate ahead of schedule, fare w...</td>\n",
       "      <td>Boeing 737-800</td>\n",
       "      <td>Solo Leisure</td>\n",
       "      <td>Economy Class</td>\n",
       "      <td>Dublin</td>\n",
       "      <td>Manchester</td>\n",
       "      <td>January 2024</td>\n",
       "      <td>4.0</td>\n",
       "      <td>5.0</td>\n",
       "      <td>NaN</td>\n",
       "      <td>4.0</td>\n",
       "      <td>5.0</td>\n",
       "      <td>yes</td>\n",
       "      <td>NaN</td>\n",
       "      <td>NaN</td>\n",
       "    </tr>\n",
       "  </tbody>\n",
       "</table>\n",
       "</div>"
      ],
      "text/plain": [
       "  Date Published  Overall Rating Passenger Country  Trip_verified  \\\n",
       "0     2024-02-03            10.0    United Kingdom   Not Verified   \n",
       "1     2024-01-26            10.0    United Kingdom  Trip Verified   \n",
       "2     2024-01-20            10.0    United Kingdom  Trip Verified   \n",
       "3     2024-01-07             6.0    United Kingdom  Trip Verified   \n",
       "4     2024-01-06            10.0            Israel  Trip Verified   \n",
       "\n",
       "                              Comment title  \\\n",
       "0         \"bang on time and smooth flights\"   \n",
       "1          \"Another good affordable flight\"   \n",
       "2                       “Really impressed!”   \n",
       "3          “a decent offering from Ryanair”   \n",
       "4  “cabin crew were welcoming and friendly”   \n",
       "\n",
       "                                             Comment        Aircraft  \\\n",
       "0  Flew back from Faro to London Luton Friday 2nd...  Boeing 737 900   \n",
       "1  Another good affordable flight with Ryanair. O...             NaN   \n",
       "2  Really impressed! You get what you pay for, th...  Boeing 737-800   \n",
       "3  I should like to review my flight from Faro to...      Boeing 737   \n",
       "4  Flight left the gate ahead of schedule, fare w...  Boeing 737-800   \n",
       "\n",
       "  Type Of Traveller      Seat Type     Origin     Destination     Date Flown  \\\n",
       "0    Family Leisure  Economy Class       Faro           Luton  February 2024   \n",
       "1    Couple Leisure  Economy Class    Belfast        Alicante   January 2024   \n",
       "2    Couple Leisure  Economy Class  Edinburgh  Paris Beauvais   October 2023   \n",
       "3      Solo Leisure  Economy Class       Faro       Liverpool   January 2024   \n",
       "4      Solo Leisure  Economy Class     Dublin      Manchester   January 2024   \n",
       "\n",
       "   Seat Comfort  Cabin Staff Service  Food & Beverages  Ground Service  \\\n",
       "0           4.0                  5.0               3.0             4.0   \n",
       "1           3.0                  5.0               3.0             5.0   \n",
       "2           5.0                  5.0               4.0             5.0   \n",
       "3           3.0                  2.0               1.0             3.0   \n",
       "4           4.0                  5.0               NaN             4.0   \n",
       "\n",
       "   Value For Money Recommended  Inflight Entertainment  Wifi & Connectivity  \n",
       "0              4.0         yes                     NaN                  NaN  \n",
       "1              5.0         yes                     NaN                  NaN  \n",
       "2              5.0         yes                     NaN                  NaN  \n",
       "3              3.0         yes                     NaN                  NaN  \n",
       "4              5.0         yes                     NaN                  NaN  "
      ]
     },
     "execution_count": 32,
     "metadata": {},
     "output_type": "execute_result"
    }
   ],
   "source": [
    "ryanair_reviews = pd.read_csv('datasets/ryanair_reviews.csv', index_col=0)\n",
    "ryanair_reviews.head()"
   ]
  },
  {
   "cell_type": "markdown",
   "metadata": {},
   "source": [
    "### **5. Escritura de dataframe en csv**\n",
    "\n",
    "Una vez que leemos un dataframe y aplicamos transformaciones en los datos sobre él, es interesante volver a escribirlo con dichas modificaciones para guardarlo y usarlo en un futuro o poder compartir nuestro trabajo, para eso existe el método **to_csv()**"
   ]
  },
  {
   "cell_type": "code",
   "execution_count": 33,
   "metadata": {},
   "outputs": [],
   "source": [
    "ryanair_reviews.to_csv('datasets/ryanair_reviews_modified_piero.csv')"
   ]
  }
 ],
 "metadata": {
  "kernelspec": {
   "display_name": "Python 3",
   "language": "python",
   "name": "python3"
  },
  "language_info": {
   "codemirror_mode": {
    "name": "ipython",
    "version": 3
   },
   "file_extension": ".py",
   "mimetype": "text/x-python",
   "name": "python",
   "nbconvert_exporter": "python",
   "pygments_lexer": "ipython3",
   "version": "3.9.5"
  },
  "orig_nbformat": 4
 },
 "nbformat": 4,
 "nbformat_minor": 2
}
