{
 "cells": [
  {
   "cell_type": "markdown",
   "metadata": {},
   "source": [
    "## Introducción\n",
    "\n",
    "En estos ejercicios vamos a trabajar con el dataset alojado en la ruta del curso **/Dia-04/datasets/seguro_medico.csv** representa el conjunto de datos de clientes de una aseguradora de salud.\n",
    "\n",
    "Las columnas del dataframe significan lo siguiente:\n",
    "\n",
    "1. `age` : Edad del cliente\n",
    "2. `sex` : Sexo del cliente\n",
    "3. `bmi` : Índice de masa corporal del cliente (Ideal entre 18.5 y 24.9)\n",
    "4. `children` : Número de hijos incluidos en el seguro de salud\n",
    "5. `smoker` : El cliente es fumador o no \n",
    "6. `region` : Región donde vive el cliente en USA\n",
    "7. `charges` : Gastos médicos individuales facturados por el seguro\n",
    "\n",
    "\n",
    "Ejecuta la siguiente celda para el dataframe con el contenido del dataset."
   ]
  },
  {
   "cell_type": "code",
   "execution_count": null,
   "metadata": {},
   "outputs": [],
   "source": []
  },
  {
   "cell_type": "markdown",
   "metadata": {},
   "source": [
    "## Ejercicio 1\n",
    "\n",
    "**¿Cuál es el costo promedio del seguro de salud para fumadores y no fumadores?** \n",
    "\n",
    "Pista: Utiliza las funciones `groupby` y `describe`"
   ]
  },
  {
   "cell_type": "code",
   "execution_count": null,
   "metadata": {},
   "outputs": [],
   "source": []
  },
  {
   "cell_type": "markdown",
   "metadata": {},
   "source": [
    "## Ejercicio 2\n",
    "\n",
    "**¿Cuál es la edad promedio de los asegurados por región?** \n",
    "\n",
    "Pista: Utiliza las funciones `groupby` y `describe`"
   ]
  },
  {
   "cell_type": "code",
   "execution_count": null,
   "metadata": {},
   "outputs": [],
   "source": []
  },
  {
   "cell_type": "markdown",
   "metadata": {},
   "source": [
    "## Ejercicio 3\n",
    "\n",
    "**¿Cuál es el grupo de personas que más paga en promedio si nos fijamos en la edad? ¿Y si nos fijamos en la edad y en el indice de masa corporal?** \n",
    "\n",
    "Pista: Utiliza las funciones `groupby`, `sort_values` y `iloc`"
   ]
  },
  {
   "cell_type": "code",
   "execution_count": null,
   "metadata": {},
   "outputs": [],
   "source": []
  },
  {
   "cell_type": "markdown",
   "metadata": {},
   "source": [
    "## Ejercicio 4\n",
    "\n",
    "**¿Cuál es el porcentaje de fumadores en cada región y género?** \n",
    "\n",
    "Pista: Utiliza las funciónes `groupby` y `size`\n",
    "\n",
    "Documentación de `size`: https://pandas.pydata.org/docs/reference/api/pandas.DataFrame.size.html"
   ]
  },
  {
   "cell_type": "code",
   "execution_count": null,
   "metadata": {},
   "outputs": [],
   "source": []
  },
  {
   "cell_type": "markdown",
   "metadata": {},
   "source": [
    "## Ejercicio 5\n",
    "\n",
    "**¿Cómo varía el costo promedio del seguro de salud para fumadores y no fumadores en función de la cantidad de hijos que tienen?** \n",
    "\n",
    "Pista: Utiliza las funciones `groupby` y `describe`"
   ]
  },
  {
   "cell_type": "code",
   "execution_count": null,
   "metadata": {},
   "outputs": [],
   "source": []
  },
  {
   "cell_type": "markdown",
   "metadata": {},
   "source": [
    "## Ejercicio 6\n",
    "\n",
    "**¿Cuál es la diferencia absoluta y relativa (porcentaje) en el costo del seguro entre fumadores y no fumadores en cada grupo de edad?** \n",
    "\n",
    "Pista: Utiliza las funciones `groupby` y `apply`"
   ]
  },
  {
   "cell_type": "code",
   "execution_count": null,
   "metadata": {},
   "outputs": [],
   "source": []
  }
 ],
 "metadata": {
  "kernelspec": {
   "display_name": "Python 3",
   "language": "python",
   "name": "python3"
  },
  "language_info": {
   "codemirror_mode": {
    "name": "ipython",
    "version": 3
   },
   "file_extension": ".py",
   "mimetype": "text/x-python",
   "name": "python",
   "nbconvert_exporter": "python",
   "pygments_lexer": "ipython3",
   "version": "3.9.5"
  },
  "orig_nbformat": 4
 },
 "nbformat": 4,
 "nbformat_minor": 2
}
