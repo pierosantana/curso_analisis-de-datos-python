{
 "cells": [
  {
   "cell_type": "markdown",
   "metadata": {},
   "source": [
    "# **Introducción a la manipulación de datos con Pandas**\n",
    "\n",
    "1. Acceso nativo a dataframes\n",
    "\n",
    "2. Indexado en pandas\n",
    "\n",
    "3. Manipulación de índices\n",
    "\n",
    "4. Selección condicional de datos\n",
    "\n",
    "5. Asignación de datos\n",
    "\n",
    "<img src=\"../imgs/foto-dia-02.png\" width=\"450px\" height=\"300px\">"
   ]
  },
  {
   "cell_type": "markdown",
   "metadata": {},
   "source": [
    "Seleccionar valores específicos de un pandas **DataFrame** o **Series** para trabajar sobre ellos es un paso implícito en casi cualquier operación de datos que se vaya a ejecutar, por lo que una de las primeras cosas que se necesita aprender al trabajar con datos en Python es cómo ir seleccionando los puntos de datos relevantes para nuestro trabajo de forma rápida y efectiva."
   ]
  },
  {
   "cell_type": "code",
   "execution_count": null,
   "metadata": {},
   "outputs": [],
   "source": []
  },
  {
   "cell_type": "markdown",
   "metadata": {},
   "source": [
    "### **1. Acceso nativo a los dataframes**"
   ]
  },
  {
   "cell_type": "markdown",
   "metadata": {},
   "source": [
    "Los objetos nativos de Python proporcionan buenas formas de indexar datos. Pandas integra todos estos, lo que ayuda a que sea fácil empezar con él.\n",
    "\n",
    "Empezamos con este DataFrame:"
   ]
  },
  {
   "cell_type": "code",
   "execution_count": null,
   "metadata": {},
   "outputs": [],
   "source": []
  },
  {
   "cell_type": "markdown",
   "metadata": {},
   "source": [
    "En Python, podemos acceder a la propiedad de un objeto accediendo a ella como un atributo. Un objeto libro, por ejemplo, puede tener un atributo título, a la que podemos acceder llamando a **libro.título**. Las columnas de un DataFrame de pandas funcionan de forma muy parecida.\n",
    "\n",
    "Así, para acceder a los datos de la columna país del dataframe de reseñas podemos utilizar:"
   ]
  },
  {
   "cell_type": "code",
   "execution_count": null,
   "metadata": {},
   "outputs": [],
   "source": []
  },
  {
   "cell_type": "markdown",
   "metadata": {},
   "source": [
    "Si tenemos un diccionario Python, podemos acceder a sus valores utilizando el operador de indexación ([]). Podemos hacer lo mismo con las columnas de un DataFrame:"
   ]
  },
  {
   "cell_type": "code",
   "execution_count": null,
   "metadata": {},
   "outputs": [],
   "source": []
  },
  {
   "cell_type": "markdown",
   "metadata": {},
   "source": [
    "Estas son las dos formas de seleccionar una Serie concreta de un DataFrame. Ninguna de ellas es más o menos válida sintácticamente que la otra, pero el operador de indexación [] tiene la ventaja de que puede manejar nombres de columnas con caracteres reservados (por ejemplo, si tuviéramos una columna ciudad país, reviews.ciudadpaís no funcionaría)."
   ]
  },
  {
   "cell_type": "markdown",
   "metadata": {},
   "source": [
    "¿No se parece una serie de pandas a una lista? Lo es, así que no es de extrañar que, para profundizar en un valor específico, sólo tengamos que utilizar el operador de indexación [] una vez más:"
   ]
  },
  {
   "cell_type": "code",
   "execution_count": null,
   "metadata": {},
   "outputs": [],
   "source": []
  },
  {
   "cell_type": "markdown",
   "metadata": {},
   "source": [
    "### **2. Indexado en pandas**"
   ]
  },
  {
   "cell_type": "markdown",
   "metadata": {},
   "source": [
    "El operador de indexación y la selección de atributos son agradables porque funcionan igual que en el resto del ecosistema Python. Como principiante, esto hace que sean fáciles de aprender y usar. Sin embargo, pandas tiene sus propios operadores de acceso, loc e iloc. Para operaciones más avanzadas, estos son los que se supone que debes usar."
   ]
  },
  {
   "cell_type": "markdown",
   "metadata": {},
   "source": [
    "##### **2.1 Selección basada en posiciones**"
   ]
  },
  {
   "cell_type": "markdown",
   "metadata": {},
   "source": [
    "La indexación en Pandas funciona en uno de dos paradigmas. El primero es la selección basada en índices: seleccionar datos basándose en su posición numérica en los datos. iloc sigue este paradigma.\n",
    "\n",
    "Para seleccionar la primera fila de datos en un DataFrame, podemos usar lo siguiente:"
   ]
  },
  {
   "cell_type": "code",
   "execution_count": null,
   "metadata": {},
   "outputs": [],
   "source": []
  },
  {
   "cell_type": "markdown",
   "metadata": {},
   "source": [
    "En el ejemplo anterior el tipo de datos que nos devuelve es una serie de pandas si queremos que nos devuelva en formato dataframe podemos hacer lo siguiente:"
   ]
  },
  {
   "cell_type": "code",
   "execution_count": null,
   "metadata": {},
   "outputs": [],
   "source": []
  },
  {
   "cell_type": "markdown",
   "metadata": {},
   "source": [
    "La indexación se realiza primero por filas y luego por columnas, en este siguiente ejemplo se seleccionan todas los valores de todas las filas pero sólo de la primera columna."
   ]
  },
  {
   "cell_type": "code",
   "execution_count": null,
   "metadata": {},
   "outputs": [],
   "source": []
  },
  {
   "cell_type": "markdown",
   "metadata": {},
   "source": [
    "Por sí solo, el operador :, que procede del Python nativo, significa \"todo\". Sin embargo, cuando se combina con otros selectores, puede utilizarse para indicar un rango de valores. Por ejemplo, para seleccionar las tres primeras columnas sólo de la primera, segunda y tercera fila, haríamos:"
   ]
  },
  {
   "cell_type": "code",
   "execution_count": null,
   "metadata": {},
   "outputs": [],
   "source": []
  },
  {
   "cell_type": "markdown",
   "metadata": {},
   "source": [
    "También podemos hacer algo muy potente que es el indexado basado en funciones lambda, por ejemplo, si sólo queremos las filas que tienen el índice par podemos hacerlo de la siguiente manera:"
   ]
  },
  {
   "cell_type": "code",
   "execution_count": null,
   "metadata": {},
   "outputs": [],
   "source": []
  },
  {
   "cell_type": "markdown",
   "metadata": {},
   "source": [
    "Una forma muy útil es el indexado con listas, como en el siguiente ejemplo:"
   ]
  },
  {
   "cell_type": "code",
   "execution_count": null,
   "metadata": {},
   "outputs": [],
   "source": []
  },
  {
   "cell_type": "markdown",
   "metadata": {},
   "source": [
    "Por último, conviene saber que se pueden utilizar números negativos en la selección. Esto comenzará a contar hacia adelante desde el final de los valores. Así, por ejemplo, aquí están los últimos cinco elementos del conjunto de datos."
   ]
  },
  {
   "cell_type": "code",
   "execution_count": null,
   "metadata": {},
   "outputs": [],
   "source": []
  },
  {
   "cell_type": "markdown",
   "metadata": {},
   "source": [
    "##### **2.2 Selección basada en índices/etiquetas**"
   ]
  },
  {
   "cell_type": "markdown",
   "metadata": {},
   "source": [
    "El segundo paradigma para la selección de atributos es el que sigue el operador loc: la selección basada en etiquetas. En este paradigma, lo que importa es el valor del índice del dato, no su posición.\n",
    "\n",
    "Por ejemplo, para obtener el valor del primer índice para la columna country, ahora haríamos lo siguiente:"
   ]
  },
  {
   "cell_type": "code",
   "execution_count": null,
   "metadata": {},
   "outputs": [],
   "source": []
  },
  {
   "cell_type": "code",
   "execution_count": null,
   "metadata": {},
   "outputs": [],
   "source": []
  },
  {
   "cell_type": "markdown",
   "metadata": {},
   "source": [
    "iloc es conceptualmente más sencillo que loc porque ignora los índices del conjunto de datos. Cuando usamos iloc tratamos el conjunto de datos como una gran matriz (una lista de listas), en la que tenemos que indexar por posición. loc, por el contrario, usa la información de los índices para hacer su trabajo. Dado que el conjunto de datos suele tener índices significativos, suele ser más fácil hacer las cosas con loc. Por ejemplo, aquí hay una operación que es mucho más fácil usando loc, ya que podemos especificar el nombre de las columnas."
   ]
  },
  {
   "cell_type": "code",
   "execution_count": null,
   "metadata": {},
   "outputs": [],
   "source": []
  },
  {
   "cell_type": "markdown",
   "metadata": {},
   "source": [
    "A la hora de elegir entre loc e iloc, hay que tener en cuenta que ambos métodos utilizan esquemas de indexación ligeramente diferentes.\n",
    "\n",
    "iloc utiliza el esquema de indexación de Python, donde se incluye el primer elemento del rango y se excluye el último. Así, 0:10 seleccionará las entradas 0,...,9. loc, por su parte, indexa de forma inclusiva. Así, 0:10 seleccionará las entradas 0,...,10.\n",
    "\n",
    "Esto es especialmente confuso cuando el índice del DataFrame es una simple lista numérica, por ejemplo 0,...,1000. En este caso df.iloc[0:1000] devolverá 1000 entradas, ¡mientras que df.loc[0:1000] devolverá 1001 de ellas! Para obtener 1000 elementos utilizando loc, tendrá que ir un poco más abajo y pedir df.loc[0:999].\n",
    "\n",
    "Por lo demás, la semántica del uso de loc es la misma que la de iloc."
   ]
  },
  {
   "cell_type": "markdown",
   "metadata": {},
   "source": [
    "### **3. Manipulación de índices**"
   ]
  },
  {
   "cell_type": "markdown",
   "metadata": {},
   "source": [
    "La selección basada en etiquetas deriva su potencia de las etiquetas del índice. El índice que utilizamos no es inmutable. Podemos manipular el índice de la forma que creamos conveniente.\n",
    "\n",
    "El método set_index() puede ser utilizado para hacer el trabajo. Esto es lo que ocurre cuando establecemos_index en el campo country:"
   ]
  },
  {
   "cell_type": "code",
   "execution_count": null,
   "metadata": {},
   "outputs": [],
   "source": []
  },
  {
   "cell_type": "code",
   "execution_count": null,
   "metadata": {},
   "outputs": [],
   "source": []
  },
  {
   "cell_type": "code",
   "execution_count": null,
   "metadata": {},
   "outputs": [],
   "source": []
  },
  {
   "cell_type": "code",
   "execution_count": null,
   "metadata": {},
   "outputs": [],
   "source": []
  },
  {
   "cell_type": "code",
   "execution_count": null,
   "metadata": {},
   "outputs": [],
   "source": []
  },
  {
   "cell_type": "markdown",
   "metadata": {},
   "source": [
    "Esto resulta útil si se puede establecer un índice para el conjunto de datos que sea mejor que el actual."
   ]
  },
  {
   "cell_type": "markdown",
   "metadata": {},
   "source": [
    "### **4. Selección condicional de datos**"
   ]
  },
  {
   "cell_type": "markdown",
   "metadata": {},
   "source": [
    "Hasta ahora hemos estado indexando varios tramos de datos, utilizando propiedades estructurales del propio DataFrame. Sin embargo, para hacer cosas interesantes con los datos, a menudo necesitamos hacer preguntas basadas en condiciones.\n",
    "\n",
    "Por ejemplo, supongamos que estamos interesados específicamente en los vinos mejores que la media producidos en Italia.\n",
    "\n",
    "Podemos empezar comprobando si cada vino es italiano o no:"
   ]
  },
  {
   "cell_type": "code",
   "execution_count": null,
   "metadata": {},
   "outputs": [],
   "source": []
  },
  {
   "cell_type": "markdown",
   "metadata": {},
   "source": [
    "Esta operación produce una serie de booleanos Verdadero/Falso en función del país de cada registro. Este resultado puede utilizarse dentro de loc para seleccionar los datos pertinentes"
   ]
  },
  {
   "cell_type": "code",
   "execution_count": null,
   "metadata": {},
   "outputs": [],
   "source": []
  },
  {
   "cell_type": "markdown",
   "metadata": {},
   "source": [
    "Este DataFrame tiene ~20.000 filas. El original tenía ~130.000. Eso significa que alrededor del 15% de los vinos proceden de Italia.\n",
    "\n",
    "También queríamos saber cuáles son mejores que la media. Los vinos se evalúan en una escala de 80 a 100 puntos, por lo que podríamos referirnos a los vinos que obtuvieron al menos 90 puntos.\n",
    "\n",
    "Podemos utilizar el símbolo ampersand (&) para unir las dos preguntas:"
   ]
  },
  {
   "cell_type": "code",
   "execution_count": null,
   "metadata": {},
   "outputs": [],
   "source": []
  },
  {
   "cell_type": "markdown",
   "metadata": {},
   "source": [
    "Supongamos que queremos comprar cualquier vino elaborado en Italia o que tenga una calificación superior a 90. Para ello utilizamos el carácter de tubería (|):"
   ]
  },
  {
   "cell_type": "code",
   "execution_count": null,
   "metadata": {},
   "outputs": [],
   "source": []
  },
  {
   "cell_type": "markdown",
   "metadata": {},
   "source": [
    "Pandas viene con unos cuantos selectores condicionales incorporados, dos de los cuales destacaremos aquí.\n",
    "\n",
    "El primero es isin. isin permite seleccionar datos cuyo valor \"está en\" una lista de valores. Por ejemplo, así es como podemos usarlo para seleccionar vinos sólo de Italia o Francia:"
   ]
  },
  {
   "cell_type": "code",
   "execution_count": null,
   "metadata": {},
   "outputs": [],
   "source": []
  },
  {
   "cell_type": "markdown",
   "metadata": {},
   "source": [
    "El segundo es isnull (y su compañero notnull). Estos métodos permiten resaltar los valores que están (o no) vacíos (NaN). Por ejemplo, para filtrar los vinos que carecen de etiqueta de precio en el conjunto de datos, esto es lo que haríamos:"
   ]
  },
  {
   "cell_type": "code",
   "execution_count": null,
   "metadata": {},
   "outputs": [],
   "source": []
  },
  {
   "cell_type": "markdown",
   "metadata": {},
   "source": [
    "### **5. Asignación de datos**"
   ]
  },
  {
   "cell_type": "markdown",
   "metadata": {},
   "source": [
    "Por otro lado, asignar datos a un DataFrame es fácil. Puede asignar un valor constante:"
   ]
  },
  {
   "cell_type": "code",
   "execution_count": null,
   "metadata": {},
   "outputs": [],
   "source": []
  },
  {
   "cell_type": "markdown",
   "metadata": {},
   "source": [
    "O con valores iterables:"
   ]
  },
  {
   "cell_type": "code",
   "execution_count": null,
   "metadata": {},
   "outputs": [],
   "source": []
  },
  {
   "cell_type": "markdown",
   "metadata": {},
   "source": [
    "También podemos utilizar el loc junto con condicionales para hacer asignaciones de valores:"
   ]
  },
  {
   "cell_type": "code",
   "execution_count": null,
   "metadata": {},
   "outputs": [],
   "source": []
  },
  {
   "cell_type": "code",
   "execution_count": null,
   "metadata": {},
   "outputs": [],
   "source": []
  }
 ],
 "metadata": {
  "kernelspec": {
   "display_name": "Python 3",
   "language": "python",
   "name": "python3"
  },
  "language_info": {
   "codemirror_mode": {
    "name": "ipython",
    "version": 3
   },
   "file_extension": ".py",
   "mimetype": "text/x-python",
   "name": "python",
   "nbconvert_exporter": "python",
   "pygments_lexer": "ipython3",
   "version": "3.9.5"
  },
  "orig_nbformat": 4
 },
 "nbformat": 4,
 "nbformat_minor": 2
}
