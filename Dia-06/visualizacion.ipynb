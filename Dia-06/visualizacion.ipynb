{
 "cells": [
  {
   "cell_type": "markdown",
   "metadata": {},
   "source": [
    "# **VISUALIZACIÓN DE DATOS**\n",
    "\n",
    "1. Instalación de seaborn\n",
    "\n",
    "2. Gráficos de tendencia\n",
    "\n",
    "3. Mapas de calor\n",
    "\n",
    "4. Gráficos de distribución\n",
    "\n",
    "\n",
    "<img src=\"../imgs/seaborn.png\" width=\"500px\" height=\"300px\">"
   ]
  },
  {
   "cell_type": "markdown",
   "metadata": {},
   "source": [
    "### **1. Instalación de Seaborn**"
   ]
  },
  {
   "cell_type": "markdown",
   "metadata": {},
   "source": []
  },
  {
   "cell_type": "code",
   "execution_count": null,
   "metadata": {},
   "outputs": [],
   "source": []
  },
  {
   "cell_type": "markdown",
   "metadata": {},
   "source": [
    "### **2. Gráficos de tendencia**\n",
    "\n",
    "**Descripción:**\n",
    "\n",
    "Los gráficos de tendencia se utilizan para representar cómo cambia una variable a lo largo del tiempo o en función de un orden secuencial.\n",
    "\n",
    "La variable independiente suele ser el tiempo (días, meses, años) u otra métrica ordenada.\n",
    "La variable dependiente muestra el valor que se analiza (ventas, temperatura, visitas, etc.).\n",
    "\n",
    "**Ejemplos comunes:**\n",
    "\n",
    "Gráficos de líneas (line charts).\n",
    "Gráficos de áreas para resaltar acumulaciones.\n",
    "\n",
    "**Uso principal:**\n",
    "\n",
    "Analizar patrones temporales: estacionalidad, crecimiento, decrecimiento.\n",
    "Identificar picos, tendencias generales o anomalías en los datos.\n",
    "Aplicaciones:\n",
    "\n",
    "Seguimiento de métricas de negocio (ventas mensuales, visitas diarias).\n",
    "Análisis de fenómenos naturales (temperatura, lluvias).\n"
   ]
  },
  {
   "cell_type": "code",
   "execution_count": null,
   "metadata": {},
   "outputs": [],
   "source": []
  },
  {
   "cell_type": "markdown",
   "metadata": {},
   "source": [
    "El dataset que vamos a utilizar es sobre películas y series de Netflix, se encuentra en la carpeta: **Dia-05/datasets/netflix_titles.csv**"
   ]
  },
  {
   "cell_type": "code",
   "execution_count": null,
   "metadata": {},
   "outputs": [],
   "source": []
  },
  {
   "cell_type": "markdown",
   "metadata": {},
   "source": [
    "#### 2.1. Tendencia del número de lanzamientos por año\n",
    "\n",
    "Podemos analizar cuántos títulos (películas o programas de TV) se lanzaron cada año. Este gráfico muestra tendencias generales en la producción."
   ]
  },
  {
   "cell_type": "code",
   "execution_count": null,
   "metadata": {},
   "outputs": [],
   "source": []
  },
  {
   "cell_type": "code",
   "execution_count": null,
   "metadata": {},
   "outputs": [],
   "source": []
  },
  {
   "cell_type": "markdown",
   "metadata": {},
   "source": [
    "#### 2.2. Tendencia de duración promedio de películas por año\n",
    "Podemos analizar cómo ha cambiado la duración promedio de las películas a lo largo del tiempo. Para esto, primero necesitamos limpiar la columna duration."
   ]
  },
  {
   "cell_type": "code",
   "execution_count": null,
   "metadata": {},
   "outputs": [],
   "source": []
  },
  {
   "cell_type": "markdown",
   "metadata": {},
   "source": [
    "#### 2.3. Evolución del número de títulos por país\n",
    "\n",
    "Podemos analizar cómo ha cambiado la cantidad de títulos producidos por ciertos países en el tiempo."
   ]
  },
  {
   "cell_type": "code",
   "execution_count": null,
   "metadata": {},
   "outputs": [],
   "source": []
  },
  {
   "cell_type": "markdown",
   "metadata": {},
   "source": [
    "### **3. Mapas de calor**\n"
   ]
  },
  {
   "cell_type": "markdown",
   "metadata": {},
   "source": [
    "**Descripción:**\n",
    "\n",
    "Estos gráficos exploran cómo dos o más variables están relacionadas, permitiendo identificar correlaciones o rangos de valores entre variables.\n",
    "\n",
    "**Aplicaciones:**\n",
    "\n",
    "Relación entre ingresos y nivel educativo.\n",
    "Relación entre precio y demanda de un producto."
   ]
  },
  {
   "cell_type": "markdown",
   "metadata": {},
   "source": [
    "#### 3.1. Relación entre la duración y género de las películas\n",
    "Podemos explorar si ciertos géneros están asociados con películas más largas o más cortas."
   ]
  },
  {
   "cell_type": "code",
   "execution_count": null,
   "metadata": {},
   "outputs": [],
   "source": []
  },
  {
   "cell_type": "markdown",
   "metadata": {},
   "source": [
    "**Interpretación:**\n",
    "\n",
    "**Duraciones más largas:**\n",
    "\n",
    "Géneros como Action & Adventure (113.3 minutos), Classic Movies (112.4 minutos), y Dramas (111.8 minutos) tienen la duración promedio más alta.\n",
    "\n",
    "**Duraciones más cortas:**\n",
    "\n",
    "Géneros como Movies (45.9 minutos) y Stand-Up Comedy (66.6 minutos) tienen las duraciones más bajas, lo que es esperado para cortometrajes y espectáculos de comedia.\n",
    "\n",
    "**Tendencia general:**\n",
    "\n",
    "Los géneros más orientados a historias elaboradas o épicas tienden a ser más largos (Action & Adventure, Dramas, Sci-Fi & Fantasy).\n",
    "Géneros ligeros o específicos (Stand-Up Comedy, Children & Family Movies) son más cortos.\n",
    "Conclusión: La duración promedio de las películas varía significativamente según el género, reflejando las diferencias en narrativa, público objetivo y formato."
   ]
  },
  {
   "cell_type": "markdown",
   "metadata": {},
   "source": [
    "### **4. Gráficos de distribución**\n"
   ]
  },
  {
   "cell_type": "markdown",
   "metadata": {},
   "source": [
    "**Descripción:**\n",
    "\n",
    "Estos gráficos muestran cómo los valores de una variable se distribuyen dentro de un rango.\n",
    "\n",
    "Ayudan a entender la forma, dispersión y centralización de los datos.\n",
    "\n",
    "**Ejemplos comunes:**\n",
    "\n",
    "Histogramas.\n",
    "Gráficos de densidad (KDE plots).\n",
    "Boxplots (gráficos de caja) para visualizar cuartiles y valores atípicos.\n",
    "\n",
    "**Uso principal:**\n",
    "\n",
    "Identificar patrones de distribución: normal, sesgada, multimodal.\n",
    "Detectar valores atípicos y rangos más comunes.\n",
    "\n",
    "**Aplicaciones:**\n",
    "\n",
    "Distribución de edades en una población.\n",
    "Análisis de ingresos de empleados en una empresa."
   ]
  },
  {
   "cell_type": "markdown",
   "metadata": {},
   "source": [
    "#### 4.1. Distribución del número de temporadas de programas de TV\n",
    "Para los programas de TV, podemos analizar cómo se distribuyen el número de temporadas."
   ]
  },
  {
   "cell_type": "code",
   "execution_count": null,
   "metadata": {},
   "outputs": [],
   "source": []
  }
 ],
 "metadata": {
  "kernelspec": {
   "display_name": "Python 3",
   "language": "python",
   "name": "python3"
  },
  "language_info": {
   "codemirror_mode": {
    "name": "ipython",
    "version": 3
   },
   "file_extension": ".py",
   "mimetype": "text/x-python",
   "name": "python",
   "nbconvert_exporter": "python",
   "pygments_lexer": "ipython3",
   "version": "3.9.5"
  }
 },
 "nbformat": 4,
 "nbformat_minor": 2
}
